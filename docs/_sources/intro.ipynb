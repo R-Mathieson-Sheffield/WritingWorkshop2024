{
 "cells": [
  {
   "cell_type": "markdown",
   "id": "6c64a142",
   "metadata": {},
   "source": [
    "# Welcome to PHY11006 Academic Writing\n",
    "\n",
    "Dr Ross Mathieson\n",
    "\n",
    "![](Figures/writing.jpg)\n",
    "\n",
    "---\n",
    "\n",
    "One of the key skills that you will develop during your time training as a physicst is learning to communicate effectively. As ambasadors of science it is our responsiblity to inform others of the work that we are doing.  \n",
    "\n",
    "Although you will have the opportunity to give oral and poster presentations, the most common way you will document your work is by writing. As such, over the next few weeks we are going to learn how to write a good lab report. \n",
    "\n",
    "The structure of a lab report mirrors that of a disertation, thesis or academic paper. As such, you should invest in learning to write a good report now as it is a key component of your studies. The structure for the rest of the semester is as follows:\n",
    "\n",
    "|Week|Topics|\n",
    "|---|---|\n",
    "| 9 | Sourcing information, structure of a lab report & academic writing style.|\n",
    "| 10 | Report writing: introduction, methods & referencing.|\n",
    "| 11 | Report writing: results, discussion, conclusion & computational writing tools. |\n",
    "| 12 | Report writing: LaTeX and full report.|\n"
   ]
  }
 ],
 "metadata": {
  "kernelspec": {
   "display_name": "Python 3",
   "language": "python",
   "name": "python3"
  },
  "language_info": {
   "codemirror_mode": {
    "name": "ipython",
    "version": 3
   },
   "file_extension": ".py",
   "mimetype": "text/x-python",
   "name": "python",
   "nbconvert_exporter": "python",
   "pygments_lexer": "ipython3",
   "version": "3.7.4"
  }
 },
 "nbformat": 4,
 "nbformat_minor": 5
}
