{
 "cells": [
  {
   "cell_type": "markdown",
   "id": "b74f5d09",
   "metadata": {},
   "source": [
    "# LaTeX, Results, Discussion and Conclusion\n",
    "\n",
    "---\n",
    "## Learning Objectives:\n",
    "\n",
    "By the end of this session you should:\n",
    "- Understand how to present information in a results section.\n",
    "- Have written a drafts of the results, discussion and conclusion of a lab report. \n",
    "\n",
    "In this session, we are going to work towards writing the results, discussion and conclusion for one of your lab experiments. \n",
    "\n",
    "---\n",
    "## LaTeX and Overleaf\n",
    "\n",
    "Overleaf is a little like Google docs, but for writing in LaTeX, which is a type of code we can use to write documents. While you are under no obligation to start using it, we thought it would be worth letting you know about it as all you need to do is make a free account and you won’t need to install anything to use it.\n",
    "\n",
    "Overleaf allows you to edit your LaTeX code and see a realtime render of what your document will look like as shown below:\n",
    "\n",
    "![](Figures/Overleaf.png)\n",
    "\n",
    "Learning to use LaTeX is a worthwhile skill as:\n",
    "\n",
    "1. Almost all physics papers published in reputable journals are formatted using LaTeX.\n",
    "\n",
    "\n",
    "2. Writing out equations in LaTeX is much easier than in Word or Google Docs.\n",
    "\n",
    "\n",
    "3. LaTeX can build your bibliography for you. \n",
    "\n",
    "\n",
    "4. Cross referencing of equations and figures is automatic. \n",
    "\n",
    "\n",
    "5. The document self formats text, equations and images! Meaning no more of this...\n",
    "\n",
    "\n",
    "![](Figures/TweetScreenshot.png)\n",
    "\n",
    "```{note}\n",
    "If you would like to make an account on Overleaf, you can do so using your university email [here](https://www.overleaf.com/register). Once you have made an account, you may wish to make a copy of [this simple report template](https://www.overleaf.com/read/zqngyfhhtjbh#b4b1f9).\n",
    "```\n",
    "---\n",
    "### Writing Equations \n",
    "\n",
    "As mentioned above, one of the key reasons people use LaTeX is that is very easy to format mathematical equations using it. This is obviously very useful to a Physicist who will likely format many equations in each report they write. To write an inline equation we place the expression between dollar signs $ E = mc^2 $, but to get a numbered equation on its own line we use:"
   ]
  },
  {
   "cell_type": "code",
   "execution_count": null,
   "id": "f0ec93c5",
   "metadata": {
    "scrolled": true,
    "tags": [
     "remove-output"
    ]
   },
   "outputs": [],
   "source": [
    "\\begin{equation}\n",
    "    E = mc^2.\n",
    "\\end{equation}"
   ]
  },
  {
   "cell_type": "markdown",
   "id": "177d49e3",
   "metadata": {},
   "source": [
    "This will render the equation as follows:\n",
    "\n",
    "\\begin{equation}\n",
    "    E = mc^2\n",
    "\\end{equation}\n",
    "\n",
    "To raise something to the power, we simply use \"^\". This will superscript the character following it. To superscript multiple characters we simply follow \"^\" with curly brackets, for example: "
   ]
  },
  {
   "cell_type": "code",
   "execution_count": null,
   "id": "e75600e6",
   "metadata": {
    "scrolled": true,
    "tags": [
     "remove-output"
    ]
   },
   "outputs": [],
   "source": [
    "\\begin{equation}\n",
    "    E = mc^{2x + c},\n",
    "\\end{equation}"
   ]
  },
  {
   "cell_type": "markdown",
   "id": "c2c1836e",
   "metadata": {},
   "source": [
    "will return:\n",
    "\n",
    "\\begin{equation}\n",
    "    E = mc^{2x + c}.\n",
    "\\end{equation}\n",
    "\n",
    "Similarly, if we would like to subscript something, we just use the underscore \"\\_\". If we want to introduce a greek letter, we simply type it out following a backslash. If we capitalise the name of the letter, it will return the capitalised symbol - be careful with this as capitalised and lowercase greek letters are often used to represent different things in Physics. Take a look at the following equation in Latex format and see if you can decipher what it will render as:"
   ]
  },
  {
   "cell_type": "code",
   "execution_count": null,
   "id": "cdd7c53e",
   "metadata": {
    "tags": [
     "remove-output"
    ]
   },
   "outputs": [],
   "source": [
    "\\begin{equation}\n",
    "    \\Delta Z = z \\sqrt{ \\left( \\frac{\\Delta A}{A} \\right)^2 + \\left( \\frac{\\Delta B}{B} \\right)^2 }.\n",
    "\\end{equation}"
   ]
  },
  {
   "cell_type": "markdown",
   "id": "15efd7d4",
   "metadata": {},
   "source": [
    "This renders as:\n",
    "\n",
    "\\begin{equation}\n",
    "    \\Delta Z = z \\sqrt{ \\left( \\frac{\\Delta A}{A} \\right)^2 + \\left( \\frac{\\Delta B}{B} \\right)^2 }.\n",
    "\\end{equation}\n",
    "\n",
    "You will note that we have introduced fractions and square roots in this example as well as Greek letters. The \"\\left\" and \"\\right\" commands just ensure that the size of the brackets used is correct e.g. omitting them in this example would give regular brackets that do not fit around the fractions:\n",
    "\n",
    "\\begin{equation}\n",
    "    \\Delta Z = z \\sqrt{( \\frac{\\Delta A}{A})^2 + (\\frac{\\Delta B}{B})^2 }.\n",
    "\\end{equation}\n",
    "\n",
    "```{admonition} LaTeX Equations Reference Materials\n",
    "\n",
    "Rendering simple equations in LaTeX is quick and easy, but you may want to refer to the following materials to learn more about using \"Math mode\":\n",
    "\n",
    "- [Mathematical Expressions](https://www.overleaf.com/learn/latex/Mathematical_expressions)\n",
    "- [List of Greek Letters and Math Symbols](https://www.overleaf.com/learn/latex/List_of_Greek_letters_and_math_symbols)\n",
    "- [Subscripts and Superscripts](https://www.overleaf.com/learn/latex/Subscripts_and_superscripts)\n",
    "- [Brackets and Parentheses](https://www.overleaf.com/learn/latex/Brackets_and_Parentheses)\n",
    "- [Integrals, Sums and Limits](https://www.overleaf.com/learn/latex/Integrals%2C_sums_and_limits)\n",
    "- [Spacing in Math Mode](https://www.overleaf.com/learn/latex/Spacing_in_math_mode)\n",
    "```\n",
    "---\n",
    "### Adding Figures\n",
    "\n",
    "A report would not be complete without diagrams of the experimental setup or plots of the results obtained. When using Word or Google Docs we can simply copy and paste a figure, but in Overleaf we must call the figure in.\n",
    "\n",
    "You will notice that in the template in the left-hand menu there is a folder called figures. If you open this folder you will see the names of the various image files and if you click on these you will see a preview of them. **This is the folder you should upload your figures to.** When making high quality plots, you should save the figure as a png file rather than screenshot it to preserve quality.\n",
    "\n",
    "To add figures into the main.tex file is very similar to calling an equation, see below"
   ]
  },
  {
   "cell_type": "code",
   "execution_count": null,
   "id": "59c0d0be",
   "metadata": {
    "tags": [
     "remove-output"
    ]
   },
   "outputs": [],
   "source": [
    "\\begin{figure}[h!]\n",
    "    \\centering\n",
    "    \\includegraphics[width=0.9\\linewidth]{Figures/ReportFigure.png}\n",
    "    \\caption{A diagram depicting the experimental setup. The figure caption should be self-contained, meaning there is sufficient information that somebody reading it would understand the figure without needing to look at the main body of text.}\n",
    "    \\label{ExperimentalSetup}\n",
    "\\end{figure}"
   ]
  },
  {
   "cell_type": "markdown",
   "id": "dba4dee2",
   "metadata": {},
   "source": [
    "There are few things to take note of in the code above:\n",
    "\n",
    "1. **\"[h!]\"** - by default LaTeX will place a figure in the position it thinks is best, however this sometimes results in the figure being far away from where it is referenced in the text. By adding \"[h!]\" to the first line of code, we are telling LaTeX that we want it \"here!\"\n",
    "\n",
    "\n",
    "\n",
    "2. **\"\\centering\"** - this simply makes sure that the figure is centre justified.\n",
    "\n",
    "\n",
    "\n",
    "3. **\"\\includegraphics[width=0.9\\linewidth]{Figures/ReportFigure.png}\"** - this line of code is used to specify which image we want to use in the figure, you will note that we have to tell LaTeX the folder that the figure is saved in e.g. \"Figures/ReportFigure.png\". This is also where we can adjust the width of the figure, relative to the width that a line of text takes up. \n",
    "\n",
    "\n",
    "\n",
    "4. **\"\\caption{}\"**- this is where we would write our figure caption.\n",
    "\n",
    "\n",
    "\n",
    "5. **\"\\label{}\"** - by giving the figure a label, it means that we can cross reference it later in the main body of text without having to worry if it is figure 1, 2, 3 etc. LaTeX is smart enough to do this for us. **You can also add labels to equations for the same purpose!**"
   ]
  },
  {
   "cell_type": "markdown",
   "id": "a7651306",
   "metadata": {},
   "source": [
    "---\n",
    "### Citations and Cross References\n",
    "As mentioned above, LaTeX will automatically update figure and equation numbers as we add more or change their order. To save us the time of manually needing to go through the entire document and change the citation, figure or equation numbers in the main body of text, we may use **\"\\cite{}\"** or **\"\\ref{}\"**.\n",
    "\n",
    "When we use **\"\\cite{}\"**, we type the name of our reference from bibliography.bib into the curly brackets. LaTeX is will then insert the citation and know the order of your references when building the bibliography.\n",
    "\n",
    "When we use **\"\\ref{}\"** we type the name of the label given to one of the figures or equations in the main body of text.\n",
    "\n",
    "---\n",
    "\n",
    "### Bibliography\n",
    "\n",
    "The ability to quickly build a complete bibliography is one of the most powerful features within LaTeX. To do this we first need a \".bib\" file, which is where we save all of the information for a given reference.We need to input the information in a very specific format known as \"bibtex\". Using StarPlus, we can download a txt file containing the bibtex information, as shown below:\n",
    "\n",
    "![](Figures/StarPlusBibTex.png)\n",
    "\n",
    "We can then copy and paste the contents of our file into the \".bib\" file in overleaf: this will look something like this:"
   ]
  },
  {
   "cell_type": "code",
   "execution_count": null,
   "id": "a41a6f90",
   "metadata": {
    "tags": [
     "remove-output"
    ]
   },
   "outputs": [],
   "source": [
    "@article{Simonis_2017,\n",
    "  title = {Saturation with chiral interactions and consequences for finite nuclei},\n",
    "  author = {Simonis, J. and Stroberg, S. R. and Hebeler, K. and Holt, J. D. and Schwenk, A.},\n",
    "  journal = {Phys. Rev. C},\n",
    "  volume = {96},\n",
    "  issue = {1},\n",
    "  pages = {014303},\n",
    "  numpages = {11},\n",
    "  year = {2017},\n",
    "  month = {Jul},\n",
    "  publisher = {American Physical Society},\n",
    "  doi = {10.1103/PhysRevC.96.014303},\n",
    "  url = {https://link.aps.org/doi/10.1103/PhysRevC.96.014303}\n",
    "}"
   ]
  },
  {
   "cell_type": "markdown",
   "id": "4ce8ac50",
   "metadata": {},
   "source": [
    "Now if we want to add a citation into our text for this given reference, we would simply type \\cite{Simonis_2017}. To build a bibliography we just need to add the appropriate command at the end of our main.tex file:"
   ]
  },
  {
   "cell_type": "code",
   "execution_count": null,
   "id": "5f581cce",
   "metadata": {
    "tags": [
     "remove-output"
    ]
   },
   "outputs": [],
   "source": [
    "\\bibliographystyle{vancouver}\n",
    "\\setcitestyle{numbers,square}\n",
    "\\bibliography{bibliography.bib}"
   ]
  },
  {
   "cell_type": "markdown",
   "id": "6a4ab026",
   "metadata": {},
   "source": [
    "The three lines of code above tell LaTeX to build a bibliography using the information from the file bibliography.bib file and using numbers in square brackets.\n",
    "\n",
    "This bibliography is going to be built using the \"vancouver\" style, which is a reference style commonly used in medicine and biomedical sciences. It is not disimilar to AIP as it uses numbered citations and presents the reference in a similar way. \n",
    "\n",
    "Although it would be preferred that you cite using AIP, should you choose to work in LaTeX it is acceptable to use this reference style for the time being as automatic AIP reference generation is not as easily achieved using Overleaf. This is something you should look into as you become more familiar with LaTeX and Overleaf. The bibliography made using the lines of code above from the report template is shown below:\n",
    "\n",
    "![](Figures/vancouver.png)"
   ]
  },
  {
   "cell_type": "markdown",
   "id": "67e7ec8b",
   "metadata": {},
   "source": [
    "\n",
    "---\n",
    "## Activities \n",
    "\n",
    "In this session you are going to draft the results, discussion and conclusion sections of a lab report. You will then have the opportunity to try and format it using Overleaf, which is an online LaTeX editor. \n",
    "\n",
    "---\n",
    "### 1. Produce a High Quality Plot \n",
    "\n",
    "For one of the experiments that you have performed in the lab, produce a plot that contains the features of a high quality plot of your results for you to then discuss in \n",
    "\n",
    "---\n",
    "### 2. Write the Results Section\n",
    "\n",
    "In this section, you should tell the reader what topic your work is in, why it is important, what other people have done in the field and what you plan to do. It’s also a good idea to briefly tell your reader what to expect from the rest of the report. You may wish to use the lab report template for this section below to help you write this section. \n",
    "\n",
    "```{admonition} Suggested Results Structure\n",
    ":class: dropdown\n",
    "\n",
    "- Summarise the structure of the rest of this paper. “In Section 2, we discuss …”.\n",
    "\n",
    "```\n",
    "---\n",
    "### 3. Write the Discussion\n",
    "\n",
    "After the introduction section, the theoretical details of your research question will be described here. While this is typically a short section at around half a page, you should aim to introduce the key physics as a theoretical model. The end of this section should make a theoretical prediction e.g. “Freefall time as a function of distance t(s) is predicted by Equation 1 to be a power law …”. This sets up the rest of your paper to show how your experiment tested this prediction. If this is a theoretical investigation then this Theory section will be larger and will build up the necessary layers of the physical model with many references throughout.\n",
    "\n",
    "```{admonition} Suggested Discussion Structure\n",
    ":class: dropdown\n",
    "\n",
    "\n",
    "```\n",
    "---\n",
    "### 4. Write the Conclusion \n",
    "\n",
    "This is where you tell your reader how you collected your data and give them information to allow them to repeat your experiment if they wish to do so. At the same time, it shouldn’t be a copy of your lab script, a list of instructions or a recipe. There’s no need to tell your reader about the equipment setting that didn’t work, just the ones that did.\n",
    "\n",
    "It is often good to include a useful, labelled diagram of the set up. If you are using any equipment that isn’t standard (like a ruler would be), give your reader the name and model number. \n",
    "\n",
    "```{admonition} Suggested Conclusion Structure\n",
    ":class: dropdown\n",
    "\n",
    "```\n",
    "---\n",
    "### 5. Writing a Report in LaTeX\n",
    "\n",
    "Now that you have written all of the major components of a report, I would like you to try and convert this into a LaTeX document using Overleaf. \n",
    "\n",
    "I have made a template for you to use and you can find it [here](https://www.overleaf.com/read/zqngyfhhtjbh#b4b1f9). You will need to save your own copy of the template in order to edit it. \n",
    "\n",
    "Before editing the written code, take a look at how the software structures the report. "
   ]
  }
 ],
 "metadata": {
  "celltoolbar": "Edit Metadata",
  "kernelspec": {
   "display_name": "Python 3",
   "language": "python",
   "name": "python3"
  },
  "language_info": {
   "codemirror_mode": {
    "name": "ipython",
    "version": 3
   },
   "file_extension": ".py",
   "mimetype": "text/x-python",
   "name": "python",
   "nbconvert_exporter": "python",
   "pygments_lexer": "ipython3",
   "version": "3.7.4"
  }
 },
 "nbformat": 4,
 "nbformat_minor": 5
}
